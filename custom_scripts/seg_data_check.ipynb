{
 "cells": [
  {
   "cell_type": "code",
   "execution_count": 5,
   "id": "85a64640",
   "metadata": {},
   "outputs": [],
   "source": [
    "import SimpleITK as sitk\n",
    "import os\n",
    "from tqdm import tqdm\n",
    "import numpy as np"
   ]
  },
  {
   "cell_type": "code",
   "execution_count": 44,
   "id": "1589e099",
   "metadata": {},
   "outputs": [],
   "source": [
    "image_path = \"/home/azureuser/all_setups/nnUNetFrame/dataset/nnUNet_results/Dataset1137_BraTS2023_SSA/nnUNetTrainer__nnUNetPlans__2d/fold_0/validation_unknown_format/BraTS-SSA-00125-000.nii.gz\""
   ]
  },
  {
   "cell_type": "code",
   "execution_count": 45,
   "id": "53044894",
   "metadata": {},
   "outputs": [],
   "source": [
    "i = sitk.ReadImage(image_path)\n"
   ]
  },
  {
   "cell_type": "code",
   "execution_count": 46,
   "id": "298ca5d4",
   "metadata": {},
   "outputs": [
    {
     "data": {
      "text/plain": [
       "array([[[0, 0, 0, ..., 0, 0, 0],\n",
       "        [0, 0, 0, ..., 0, 0, 0],\n",
       "        [0, 0, 0, ..., 0, 0, 0],\n",
       "        ...,\n",
       "        [0, 0, 0, ..., 0, 0, 0],\n",
       "        [0, 0, 0, ..., 0, 0, 0],\n",
       "        [0, 0, 0, ..., 0, 0, 0]],\n",
       "\n",
       "       [[0, 0, 0, ..., 0, 0, 0],\n",
       "        [0, 0, 0, ..., 0, 0, 0],\n",
       "        [0, 0, 0, ..., 0, 0, 0],\n",
       "        ...,\n",
       "        [0, 0, 0, ..., 0, 0, 0],\n",
       "        [0, 0, 0, ..., 0, 0, 0],\n",
       "        [0, 0, 0, ..., 0, 0, 0]],\n",
       "\n",
       "       [[0, 0, 0, ..., 0, 0, 0],\n",
       "        [0, 0, 0, ..., 0, 0, 0],\n",
       "        [0, 0, 0, ..., 0, 0, 0],\n",
       "        ...,\n",
       "        [0, 0, 0, ..., 0, 0, 0],\n",
       "        [0, 0, 0, ..., 0, 0, 0],\n",
       "        [0, 0, 0, ..., 0, 0, 0]],\n",
       "\n",
       "       ...,\n",
       "\n",
       "       [[0, 0, 0, ..., 0, 0, 0],\n",
       "        [0, 0, 0, ..., 0, 0, 0],\n",
       "        [0, 0, 0, ..., 0, 0, 0],\n",
       "        ...,\n",
       "        [0, 0, 0, ..., 0, 0, 0],\n",
       "        [0, 0, 0, ..., 0, 0, 0],\n",
       "        [0, 0, 0, ..., 0, 0, 0]],\n",
       "\n",
       "       [[0, 0, 0, ..., 0, 0, 0],\n",
       "        [0, 0, 0, ..., 0, 0, 0],\n",
       "        [0, 0, 0, ..., 0, 0, 0],\n",
       "        ...,\n",
       "        [0, 0, 0, ..., 0, 0, 0],\n",
       "        [0, 0, 0, ..., 0, 0, 0],\n",
       "        [0, 0, 0, ..., 0, 0, 0]],\n",
       "\n",
       "       [[0, 0, 0, ..., 0, 0, 0],\n",
       "        [0, 0, 0, ..., 0, 0, 0],\n",
       "        [0, 0, 0, ..., 0, 0, 0],\n",
       "        ...,\n",
       "        [0, 0, 0, ..., 0, 0, 0],\n",
       "        [0, 0, 0, ..., 0, 0, 0],\n",
       "        [0, 0, 0, ..., 0, 0, 0]]], shape=(155, 240, 240), dtype=uint8)"
      ]
     },
     "execution_count": 46,
     "metadata": {},
     "output_type": "execute_result"
    }
   ],
   "source": [
    "img = sitk.GetArrayFromImage(i)\n",
    "img"
   ]
  },
  {
   "cell_type": "code",
   "execution_count": 47,
   "id": "ae7da8c5",
   "metadata": {},
   "outputs": [
    {
     "data": {
      "text/plain": [
       "array([0, 1, 2, 3], dtype=uint8)"
      ]
     },
     "execution_count": 47,
     "metadata": {},
     "output_type": "execute_result"
    }
   ],
   "source": [
    "np.unique(img)"
   ]
  },
  {
   "cell_type": "code",
   "execution_count": 48,
   "id": "99881347",
   "metadata": {},
   "outputs": [
    {
     "data": {
      "text/plain": [
       "dtype('uint8')"
      ]
     },
     "execution_count": 48,
     "metadata": {},
     "output_type": "execute_result"
    }
   ],
   "source": [
    "img.dtype"
   ]
  },
  {
   "cell_type": "code",
   "execution_count": 49,
   "id": "ae7e2459",
   "metadata": {},
   "outputs": [
    {
     "name": "stdout",
     "output_type": "stream",
     "text": [
      "Value: 0, Count: 8792290, Percentage: 98.48%\n",
      "Value: 1, Count: 6154, Percentage: 0.07%\n",
      "Value: 2, Count: 104842, Percentage: 1.17%\n",
      "Value: 3, Count: 24714, Percentage: 0.28%\n"
     ]
    }
   ],
   "source": [
    "unique, counts = np.unique(img, return_counts=True)\n",
    "percentages = (counts / counts.sum()) * 100\n",
    "for u, c, p in zip(unique, counts, percentages):\n",
    "    print(f\"Value: {u}, Count: {c}, Percentage: {p:.2f}%\")"
   ]
  },
  {
   "cell_type": "code",
   "execution_count": 43,
   "id": "8678242c",
   "metadata": {},
   "outputs": [
    {
     "name": "stdout",
     "output_type": "stream",
     "text": [
      "Value: 0, Count: 8792290, Percentage: 98.48%\n",
      "Value: 1, Count: 104842, Percentage: 1.17%\n",
      "Value: 2, Count: 6154, Percentage: 0.07%\n",
      "Value: 3, Count: 24714, Percentage: 0.28%\n"
     ]
    }
   ],
   "source": [
    "unique, counts = np.unique(img, return_counts=True)\n",
    "percentages = (counts / counts.sum()) * 100\n",
    "for u, c, p in zip(unique, counts, percentages):\n",
    "    print(f\"Value: {u}, Count: {c}, Percentage: {p:.2f}%\")"
   ]
  },
  {
   "cell_type": "code",
   "execution_count": 37,
   "id": "0b5f7d85",
   "metadata": {},
   "outputs": [
    {
     "name": "stdout",
     "output_type": "stream",
     "text": [
      "Value: 0, Count: 8709539, Percentage: 97.55%\n",
      "Value: 1, Count: 190334, Percentage: 2.13%\n",
      "Value: 2, Count: 6603, Percentage: 0.07%\n",
      "Value: 3, Count: 21524, Percentage: 0.24%\n"
     ]
    }
   ],
   "source": [
    "unique, counts = np.unique(img, return_counts=True)\n",
    "percentages = (counts / counts.sum()) * 100\n",
    "for u, c, p in zip(unique, counts, percentages):\n",
    "    print(f\"Value: {u}, Count: {c}, Percentage: {p:.2f}%\")"
   ]
  },
  {
   "cell_type": "code",
   "execution_count": 31,
   "id": "10db6a3c",
   "metadata": {},
   "outputs": [
    {
     "name": "stdout",
     "output_type": "stream",
     "text": [
      "Value: 0.0, Count: 8709539, Percentage: 97.55%\n",
      "Value: 1.0, Count: 6603, Percentage: 0.07%\n",
      "Value: 2.0, Count: 190334, Percentage: 2.13%\n",
      "Value: 3.0, Count: 21524, Percentage: 0.24%\n"
     ]
    }
   ],
   "source": [
    "unique, counts = np.unique(img, return_counts=True)\n",
    "percentages = (counts / counts.sum()) * 100\n",
    "for u, c, p in zip(unique, counts, percentages):\n",
    "    print(f\"Value: {u}, Count: {c}, Percentage: {p:.2f}%\")"
   ]
  },
  {
   "cell_type": "code",
   "execution_count": null,
   "id": "0cf8d00a",
   "metadata": {},
   "outputs": [],
   "source": []
  }
 ],
 "metadata": {
  "kernelspec": {
   "display_name": "venv",
   "language": "python",
   "name": "python3"
  },
  "language_info": {
   "codemirror_mode": {
    "name": "ipython",
    "version": 3
   },
   "file_extension": ".py",
   "mimetype": "text/x-python",
   "name": "python",
   "nbconvert_exporter": "python",
   "pygments_lexer": "ipython3",
   "version": "3.10.11"
  }
 },
 "nbformat": 4,
 "nbformat_minor": 5
}
